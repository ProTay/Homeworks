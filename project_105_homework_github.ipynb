{
  "nbformat": 4,
  "nbformat_minor": 0,
  "metadata": {
    "colab": {
      "provenance": [],
      "collapsed_sections": [],
      "name": "project-105-homework.github",
      "include_colab_link": true
    },
    "kernelspec": {
      "name": "python3",
      "display_name": "Python 3"
    },
    "language_info": {
      "name": "python"
    }
  },
  "cells": [
    {
      "cell_type": "markdown",
      "metadata": {
        "id": "view-in-github",
        "colab_type": "text"
      },
      "source": [
        "<a href=\"https://colab.research.google.com/github/ProTay/Homeworks/blob/main/project_105_homework_github.ipynb\" target=\"_parent\"><img src=\"https://colab.research.google.com/assets/colab-badge.svg\" alt=\"Open In Colab\"/></a>"
      ]
    },
    {
      "cell_type": "markdown",
      "metadata": {
        "id": "erYQyGJOT0Ya"
      },
      "source": [
        "### Instructions"
      ]
    },
    {
      "cell_type": "markdown",
      "metadata": {
        "id": "bEyBzxYRhrLG"
      },
      "source": [
        "#### Goal of the Project\n",
        "\n",
        "This project is designed for you to practice and solve the activities that are based on the concepts covered in the lessons: \n",
        "\n",
        "- Polynomial Regression - Polynomials\n",
        "\n",
        "- Polynomial Regression - Underfitting"
      ]
    },
    {
      "cell_type": "markdown",
      "metadata": {
        "id": "pIrCR0_QMp18"
      },
      "source": [
        "---"
      ]
    },
    {
      "cell_type": "markdown",
      "metadata": {
        "id": "G5s7mQ4Idvgk"
      },
      "source": [
        "#### Getting Started:\n",
        "\n",
        "1. Click on this link to open the Colab file for this project.\n",
        "\n",
        "  https://colab.research.google.com/drive/1cawXvyzmYxUoBx340QL3Zj19IT6Q8iXQ\n",
        "\n",
        "2. Create a duplicate copy of the Colab file as described below.\n",
        "\n",
        "  - Click on the **File menu**. A new drop-down list will appear.\n",
        "\n",
        "   <img src='https://student-datasets-bucket.s3.ap-south-1.amazonaws.com/images/lesson-0/0_file_menu.png' width=500>\n",
        "\n",
        "  - Click on the **Save a copy in Drive** option. A duplicate copy will get created. It will open up in the new tab on your web browser.\n",
        "\n",
        "  <img src='https://student-datasets-bucket.s3.ap-south-1.amazonaws.com/images/lesson-0/1_create_colab_duplicate_copy.png' width=500>\n",
        "\n",
        "3. After creating the duplicate copy of the notebook, please rename it in the **YYYY-MM-DD_StudentName_Project105** format.\n",
        "\n",
        "4. Now, write your code in the prescribed code cells.\n"
      ]
    },
    {
      "cell_type": "markdown",
      "metadata": {
        "id": "P9aam90edvGP"
      },
      "source": [
        "---"
      ]
    },
    {
      "cell_type": "markdown",
      "metadata": {
        "id": "oHEruqrlZewu"
      },
      "source": [
        "#### Problem Statement\n",
        "\n",
        "In this project, you will build a Polynomial Regression model and understand the advantages of Polynomial Regression over Linear Regression."
      ]
    },
    {
      "cell_type": "markdown",
      "metadata": {
        "id": "qIVNEyp4Mrem"
      },
      "source": [
        "---"
      ]
    },
    {
      "cell_type": "markdown",
      "metadata": {
        "id": "dkkg2QzEu3lP"
      },
      "source": [
        "### List of Activities\n",
        " \n",
        "**Activity 1:** Importing Modules and Generating Data\n",
        "\n",
        "**Activity 2:** Building the Linear Regression Model\n",
        "  \n",
        "**Activity 3:** Building the Polynomial Regression Model"
      ]
    },
    {
      "cell_type": "markdown",
      "metadata": {
        "id": "eUc0Lq-HlQ3O"
      },
      "source": [
        "---"
      ]
    },
    {
      "cell_type": "markdown",
      "metadata": {
        "id": "DQSgqaR1lire"
      },
      "source": [
        "#### Activity 1: Importing Modules and Generating Data\n",
        "\n",
        "1. Import the necessary Python modules along with the following modules: \n",
        "\n",
        " - `LinearRegression`: To build the linear regression model.\n",
        "\n",
        " - `PolynomialFeatures`: To build the polynomial regression model.\n",
        " \n",
        " - `matplotlib.pyplot`: To visualise the regression results.\n",
        "\n",
        " - `r2_score`: To get the accuracy scores of the model. \n",
        "\n",
        " - `mean_squared_error`: To get the root mean squared error.\n",
        "\n",
        "\n",
        "2. Create a  feature array `X` and target array `y` in the following way:\n",
        "\n",
        "  ```python\n",
        "np.random.seed(0)\n",
        "X = 2 - 3 * np.random.normal(0, 1, 20)\n",
        "y = x - 2 * (X ** 2) + 0.5 * (X ** 3) + np.random.normal(-3, 3, 20)\n",
        "  \n",
        "  ```\n",
        "\n",
        "3. Create a scatter plot between `X` and `y` arrays to visualise their relationship.\n",
        "\n"
      ]
    },
    {
      "cell_type": "code",
      "metadata": {
        "id": "4AWWc0FxkxCq",
        "outputId": "cadac4de-986b-4863-9823-43b2d7ae7444",
        "colab": {
          "base_uri": "https://localhost:8080/",
          "height": 428
        }
      },
      "source": [
        "# Import modules and Create X and y array.\n",
        "import numpy as np\n",
        "import pandas as pd\n",
        "from sklearn.linear_model import LinearRegression\n",
        "from sklearn.preprocessing import PolynomialFeatures\n",
        "from sklearn.metrics import r2_score, mean_squared_error\n",
        "import matplotlib.pyplot as plt\n",
        "\n",
        "np.random.seed(0)\n",
        "X = 2 - 3 * np.random.normal(0, 1, 20)\n",
        "y = X - 2 * (X ** 2) + 0.5 * (X ** 3) + np.random.normal(-3, 3, 20)\n",
        "\n",
        "# Create the scatter plot to visualise the relation between 'X' and 'y'.\n",
        "plt.figure(figsize = (12,7))\n",
        "plt.scatter(X,y)\n",
        "plt.show()\n"
      ],
      "execution_count": null,
      "outputs": [
        {
          "output_type": "display_data",
          "data": {
            "text/plain": [
              "<Figure size 864x504 with 1 Axes>"
            ],
            "image/png": "[encoded data removed]"
          },
          "metadata": {
            "needs_background": "light"
          }
        }
      ]
    },
    {
      "cell_type": "markdown",
      "metadata": {
        "id": "FG2rENr2MaR_"
      },
      "source": [
        "---"
      ]
    },
    {
      "cell_type": "markdown",
      "metadata": {
        "id": "_ElZ9ojTXRKu"
      },
      "source": [
        "#### Activity 2: Building the Linear Regression Model\n",
        "\n",
        "In this activity you need to build and fit a Linear Regression model to this dataset. \n",
        "\n",
        "Evaluate the accuracy of this model with  $R^2$  score and Root Mean Squared Error (RMSE) score.\n",
        "\n",
        "**Steps**:\n",
        "\n",
        "1. Create an object (say `lin_model`) of the `LinearRegression()` constructor.\n",
        " \n",
        "2. Use `reshape(-1, 1)` function to convert `X` array into a 2D array and store it in `X_reshaped` variable.\n",
        "\n",
        "3. Call the `fit()` function on the above constructor with  feature variable `X_reshaped` and target variable `y` as inputs.\n",
        "\n",
        "3. Get the predicted target values by calling the `predict()` function.\n",
        "\n",
        "4. Calculate and print the $R^2$  score and RMSE score.\n"
      ]
    },
    {
      "cell_type": "code",
      "metadata": {
        "id": "J0iRuowIXTx-",
        "outputId": "a0b657d0-d1f2-4bea-da72-9cd915c06437",
        "colab": {
          "base_uri": "https://localhost:8080/"
        }
      },
      "source": [
        "# Build a linear regression model and calculate R-squared score and MSE score.\n",
        "np.random.seed(0)\n",
        "X = 2 - 3 * np.random.normal(0, 1, 20)\n",
        "y = X - 2 * (X ** 2) + 0.5 * (X ** 3) + np.random.normal(-3, 3, 20)\n",
        "\n",
        "# Build linear regression model\n",
        "lin_reg = LinearRegression()\n",
        "x_reshaped = X.reshape(-1,1)\n",
        "lin_reg.fit(x_reshaped,y)\n",
        "y_pred = lin_reg.predict(x_reshaped)\n",
        "print(f'R2 Score and MSE score = {r2_score(y,y_pred)} and {mean_squared_error(y,y_pred)}')\n",
        "# Calculate and print R-squared score and MSE score.\n"
      ],
      "execution_count": null,
      "outputs": [
        {
          "output_type": "stream",
          "name": "stdout",
          "text": [
            "R2 Score and MSE score = 0.6386750054827146 and 253.07217948430375\n"
          ]
        }
      ]
    },
    {
      "cell_type": "markdown",
      "metadata": {
        "id": "3EzN-oMXXXtf"
      },
      "source": [
        "**Q**: What is the accuracy score of the Linear Regression model?\n",
        "\n",
        "**A**: The accuracy is 0.63"
      ]
    },
    {
      "cell_type": "markdown",
      "metadata": {
        "id": "3Btaw5MPXamX"
      },
      "source": [
        "---"
      ]
    },
    {
      "cell_type": "markdown",
      "metadata": {
        "id": "VfUqbeDihv7Z"
      },
      "source": [
        "#### Activity 3: Building the Polynomial Regression Model\n",
        "\n",
        "In this activity you need to build and fit a Polynomial Regression model of degree `2` to this dataset. \n",
        "\n",
        "Evaluate the accuracy of this model with  $R^2$  score and RMSE score.\n",
        "\n",
        "**Steps**\n",
        "\n",
        "1. Create an object (say `polynomial_features`) of the `PolynomialFeatures()` constructor with degree `2`.\n",
        " \n",
        "2. Call the `fit_transform()` function on the above constructor with train feature `X_reshaped` as input. Store it in a variable `X_poly`.\n",
        "\n",
        "3. Call the `fit()` function on the `LinearRegression()` constructor with train feature `X_poly` and target variable `y` as inputs.\n",
        "\n",
        "4. Get the predicted target values by calling the `predict()` function on `X_poly`.\n",
        "\n",
        "5. Calculate and print the $R^2$  score and RMSE score."
      ]
    },
    {
      "cell_type": "code",
      "metadata": {
        "id": "40j5qC1viFSe",
        "outputId": "43d21111-8ffc-4ce8-d82f-a18b2df69b90",
        "colab": {
          "base_uri": "https://localhost:8080/"
        }
      },
      "source": [
        "# Build polynomial regression model of degree 2\n",
        "poly_model = PolynomialFeatures(degree = 2)\n",
        "x_poly = poly_model.fit_transform(x_reshaped)\n",
        "lin_reg.fit(x_poly, y)\n",
        "poly_lin_pred = lin_reg.predict(x_poly)\n",
        "print(f'Accuracy: {r2_score(y,poly_lin_pred)}')\n",
        "# Create an object of the 'PolynomialFeatures()' constructor with degree 2\n",
        "\n",
        "# Call the 'fit_transform()' function on the above constructor with train feature X_reshaped as input. \n",
        "# Store it in a variable 'X_poly'.\n",
        "\n",
        "# Call the fit() function on the LinearRegression() constructor with 'X_poly' and 'y' as inputs.\n",
        "\n",
        "# Calculate and print R-squared score and MSE score.\n"
      ],
      "execution_count": null,
      "outputs": [
        {
          "output_type": "stream",
          "name": "stdout",
          "text": [
            "Accuracy: 0.8537647164420812\n"
          ]
        }
      ]
    },
    {
      "cell_type": "markdown",
      "metadata": {
        "id": "xUlvG3AeL9cm"
      },
      "source": [
        "**Q**: What is the accuracy score of the Polynomial Regression model?\n",
        "\n",
        "**A**: The accuracy score of the Polynomial Regression Model is 0.85\n"
      ]
    },
    {
      "cell_type": "markdown",
      "metadata": {
        "id": "MMG-0TpvcB8C"
      },
      "source": [
        "---"
      ]
    },
    {
      "cell_type": "markdown",
      "metadata": {
        "id": "LEnT5AJMeb9o"
      },
      "source": [
        "### Submitting the Project:\n",
        "\n",
        "1. After finishing the project, click on the **Share** button on the top right corner of the notebook. A new dialog box will appear.\n",
        "\n",
        "  <img src='https://student-datasets-bucket.s3.ap-south-1.amazonaws.com/images/project-share-images/2_share_button.png' width=500>\n",
        "\n",
        "2. In the dialog box, make sure that '**Anyone on the Internet with this link can view**' option is selected and then click on the **Copy link** button.\n",
        "\n",
        "   <img src='https://student-datasets-bucket.s3.ap-south-1.amazonaws.com/images/project-share-images/3_copy_link.png' width=500>\n",
        "\n",
        "3. The link of the duplicate copy (named as **YYYY-MM-DD_StudentName_Project105**) of the notebook will get copied \n",
        "\n",
        "   <img src='https://student-datasets-bucket.s3.ap-south-1.amazonaws.com/images/project-share-images/4_copy_link_confirmation.png' width=500>\n",
        "\n",
        "4. Go to your dashboard and click on the **My Projects** option.\n",
        "   \n",
        "   <img src='https://student-datasets-bucket.s3.ap-south-1.amazonaws.com/images/project-share-images/5_student_dashboard.png' width=800>\n",
        "\n",
        "  <img src='https://student-datasets-bucket.s3.ap-south-1.amazonaws.com/images/project-share-images/6_my_projects.png' width=800>\n",
        "\n",
        "5. Click on the **View Project** button for the project you want to submit.\n",
        "\n",
        "   <img src='https://student-datasets-bucket.s3.ap-south-1.amazonaws.com/images/project-share-images/7_view_project.png' width=800>\n",
        "\n",
        "6. Click on the **Submit Project Here** button.\n",
        "\n",
        "   <img src='https://student-datasets-bucket.s3.ap-south-1.amazonaws.com/images/project-share-images/8_submit_project.png' width=800>\n",
        "\n",
        "7. Paste the link to the project file named as **YYYY-MM-DD_StudentName_Project105** in the URL box and then click on the **Submit** button.\n",
        "\n",
        "   <img src='https://student-datasets-bucket.s3.ap-south-1.amazonaws.com/images/project-share-images/9_enter_project_url.png' width=800> "
      ]
    },
    {
      "cell_type": "markdown",
      "metadata": {
        "id": "RmZ0fPd0eeym"
      },
      "source": [
        "---"
      ]
    }
  ]
}